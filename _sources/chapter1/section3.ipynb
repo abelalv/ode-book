{
 "cells": [
  {
   "cell_type": "markdown",
   "id": "655b89f0",
   "metadata": {},
   "source": [
    "## Solución lineal de prmer orden \n",
    "\n",
    "una ecuación diferenacial homogenea de primer orden es de la forma \n",
    "\n",
    "$$a(t)y'+b(t)y=c(t)$$\n",
    "si $a(t)\\ne 0$ enonces podemos transformar la ecuación de la forma \n",
    "\n",
    "$$y'(t)+P(t)y(t)=Q(t)$$\n",
    "donde $P(t)=\\frac{b(t)}{a(t)}$ y $Q(t)=\\frac{c(t)}{a(t)}$.\n",
    "\n",
    "Note que si $Q(t)=0$, la ecuación anterior se torna de la forma \n",
    "$$y'(t)+P(t)y(t)=0$$\n",
    "\n",
    "podemos buscar un factor de integración de la forma \n",
    "\n",
    "$$\\rho(t)=e^{\\int P(t)d\\ t},$$\n",
    "note que \n",
    "\n",
    "$$\\frac{d}{dt}\\Big(y(t)e^{\\int P(t)d\\ t}\\Big)=y'e^{\\int P(t)d\\ t}+y(t)P(t)e^{\\int P(t)d\\ t}$$\n",
    "\n",
    "al multiplica a $\\rho(t)$ por la ecuación original tenemos \n",
    "\n",
    "\n",
    "$$y'(t)\\rho(t)+\\rho(t)P(t)y(t)=0$$\n",
    "$$y'(t)e^{\\int P(t)d\\ t}+e^{\\int P(t)d\\ t}P(t)y(t)=0$$\n",
    "$$\\frac{d}{dt}\\Big(y(t)e^{\\int P(t)d\\ t}\\Big)=0$$\n",
    "$$\\int\\frac{d}{dt}\\Big(y(t)e^{\\int P(\\tau)d\\tau}\\Big)d t=C$$\n",
    "de esta forma tenemos que \n",
    "$$y(t)=C\n"
   ]
  },
  {
   "cell_type": "code",
   "execution_count": null,
   "id": "380b7826",
   "metadata": {},
   "outputs": [],
   "source": []
  }
 ],
 "metadata": {
  "hide_input": false,
  "kernelspec": {
   "display_name": "Python 3 (ipykernel)",
   "language": "python",
   "name": "python3"
  },
  "language_info": {
   "codemirror_mode": {
    "name": "ipython",
    "version": 3
   },
   "file_extension": ".py",
   "mimetype": "text/x-python",
   "name": "python",
   "nbconvert_exporter": "python",
   "pygments_lexer": "ipython3",
   "version": "3.9.7"
  },
  "latex_envs": {
   "LaTeX_envs_menu_present": true,
   "autoclose": false,
   "autocomplete": true,
   "bibliofile": "biblio.bib",
   "cite_by": "apalike",
   "current_citInitial": 1,
   "eqLabelWithNumbers": true,
   "eqNumInitial": 1,
   "hotkeys": {
    "equation": "Ctrl-E",
    "itemize": "Ctrl-I"
   },
   "labels_anchors": false,
   "latex_user_defs": false,
   "report_style_numbering": false,
   "user_envs_cfg": false
  },
  "varInspector": {
   "cols": {
    "lenName": 16,
    "lenType": 16,
    "lenVar": 40
   },
   "kernels_config": {
    "python": {
     "delete_cmd_postfix": "",
     "delete_cmd_prefix": "del ",
     "library": "var_list.py",
     "varRefreshCmd": "print(var_dic_list())"
    },
    "r": {
     "delete_cmd_postfix": ") ",
     "delete_cmd_prefix": "rm(",
     "library": "var_list.r",
     "varRefreshCmd": "cat(var_dic_list()) "
    }
   },
   "types_to_exclude": [
    "module",
    "function",
    "builtin_function_or_method",
    "instance",
    "_Feature"
   ],
   "window_display": false
  }
 },
 "nbformat": 4,
 "nbformat_minor": 5
}
